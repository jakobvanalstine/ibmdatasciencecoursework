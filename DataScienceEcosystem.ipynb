{
 "cells": [
  {
   "cell_type": "markdown",
   "id": "6ebbe5c2-88f4-4367-ab25-6acac97ee942",
   "metadata": {},
   "source": [
    "# Data Science Tools and Ecosystem"
   ]
  },
  {
   "cell_type": "markdown",
   "id": "7e9fc2e6-d61a-47d7-8cab-8101bfb17b49",
   "metadata": {},
   "source": [
    "This notebook summarizes data science tools and ecosystem."
   ]
  },
  {
   "cell_type": "markdown",
   "id": "94105eae-cb2b-4234-a13e-4b6fb38e5d02",
   "metadata": {},
   "source": [
    "**Objectives:**\n",
    "\n",
    "- List some languages popular in data science\n",
    "- List some libraries commonly used in data science\n",
    "- Tabulate three open-source, development environment tools used in data science\n",
    "- Give examples of evaluating arithemetic expressions and commenting in Python"
   ]
  },
  {
   "cell_type": "markdown",
   "id": "1bb9e49d-35c1-46b0-9827-5cadc48ec21d",
   "metadata": {},
   "source": [
    "Some of the popular languages that data scientists use are:\n",
    "\n",
    "1. **Python** – for general programming purposes within and without data science\n",
    "2. **R** / **Julia** – for more data analysis, visualization, and so on\n",
    "3. **SQL** – for querying and manipulating structured data\n",
    "4. **Java** / **Scala** / **C++** – for more data pipelining, data processing, NoSQL, and machine learning\n",
    "5. **JavaScript** – for web-based or interactive applications\n",
    "6. **PHP** / **Go** / **Ruby** / **Visual Basic** – for special use cases"
   ]
  },
  {
   "cell_type": "markdown",
   "id": "3397e1bd-527d-48ca-997b-93c489fcbf10",
   "metadata": {},
   "source": [
    "Some libraries that data scientists commonly use include:\n",
    "\n",
    "1. **Python libraries:**\n",
    "    1. `pandas`, `numpy`, `scipy` – for computing\n",
    "    2. `matplotlib`, `seaborn`, `plotly`, `altair`, `pixiedust` – for visualization\n",
    "    3. `ipywidgets` – for more use of Jupyter notebooks\n",
    "    4. `scikit-learn`, `keras` – for machine learning\n",
    "    5. `tensorflow`, `pytorch` – for deep learning\n",
    "2. **R libraries:**\n",
    "    1. `ggplot`, `GGally`, `lattice`, `leaflet` – for visualization\n",
    "    2. `dplyr` – for manipulating data\n",
    "    3. `stringr` – for manipulating strings\n",
    "    4. `caret` – for machine learning\n",
    "3. **JavaScript libraries:**\n",
    "    1. `tensorflow.js` – for machine learning with deployed in browser or on Node.js"
   ]
  },
  {
   "cell_type": "markdown",
   "id": "3ee7cad0-bb78-4527-a826-adabaa430873",
   "metadata": {},
   "source": [
    "| Data Science Tools |\n",
    "| --- |\n",
    "| JupyterLab |\n",
    "| RStudio |\n",
    "| VS Code |"
   ]
  },
  {
   "cell_type": "markdown",
   "id": "caea4eff-934c-472f-878b-bd376e74e088",
   "metadata": {},
   "source": [
    "### Examples of evaluating arithmetic expressions in Python"
   ]
  },
  {
   "cell_type": "code",
   "execution_count": 3,
   "id": "7be137ef-8979-49d6-a073-7a2a7fe26083",
   "metadata": {},
   "outputs": [
    {
     "data": {
      "text/plain": [
       "17"
      ]
     },
     "execution_count": 3,
     "metadata": {},
     "output_type": "execute_result"
    }
   ],
   "source": [
    "# This is a simple arithmetic expression to multiply then add integers\n",
    "(3*4)+5"
   ]
  },
  {
   "cell_type": "code",
   "execution_count": 31,
   "id": "04a88b5c-b948-49ea-bf2b-0eec17bd8428",
   "metadata": {
    "scrolled": true
   },
   "outputs": [
    {
     "name": "stdout",
     "output_type": "stream",
     "text": [
      "Hours per 200 minutes:\n"
     ]
    },
    {
     "data": {
      "text/plain": [
       "3.3333333333333335"
      ]
     },
     "execution_count": 31,
     "metadata": {},
     "output_type": "execute_result"
    }
   ],
   "source": [
    "# This prints flavor text for context, then divides 200 by 60 and returns the quotient\n",
    "print(\"Hours per 200 minutes:\")\n",
    "200/60"
   ]
  },
  {
   "cell_type": "markdown",
   "id": "5c01b636-2ce2-48da-9310-027f691f8e8a",
   "metadata": {},
   "source": [
    "## Author\n",
    "\n",
    "Jakob Van Alstine"
   ]
  }
 ],
 "metadata": {
  "kernelspec": {
   "display_name": "Python 3 (ipykernel)",
   "language": "python",
   "name": "python3"
  },
  "language_info": {
   "codemirror_mode": {
    "name": "ipython",
    "version": 3
   },
   "file_extension": ".py",
   "mimetype": "text/x-python",
   "name": "python",
   "nbconvert_exporter": "python",
   "pygments_lexer": "ipython3",
   "version": "3.12.9"
  }
 },
 "nbformat": 4,
 "nbformat_minor": 5
}
